{
 "cells": [
  {
   "cell_type": "code",
   "execution_count": null,
   "id": "0afa9ef5",
   "metadata": {},
   "outputs": [
    {
     "name": "stdout",
     "output_type": "stream",
     "text": [
      "Using Tool: Search the internet with Serper\n",
      "{'searchParameters': {'q': 'latest AI research 2025', 'type': 'search'}, 'credits': 1}\n"
     ]
    }
   ],
   "source": [
    "from crewai_tools.tools.serper_dev_tool.serper_dev_tool import SerperDevTool\n",
    "from dotenv import load_dotenv\n",
    "import os\n",
    "import requests\n",
    "import json\n",
    "\n",
    "load_dotenv()\n",
    "\n",
    "class CustomSerperDevTool(SerperDevTool):\n",
    "    def _make_api_request(self, search_query, search_type=\"web\"):\n",
    "        # Change this URL to your desired endpoint\n",
    "        search_url = \"https://serpapi.com/search\"\n",
    "\n",
    "        # Parameters for GET request\n",
    "        params = {\n",
    "            \"q\": search_query,\n",
    "            \"api_key\": os.getenv(\"SERPER_API_KEY\"),\n",
    "            \"engine\": \"google\",  # example: google engine\n",
    "            \"num\": 20  # request more results\n",
    "        }\n",
    "\n",
    "        response = requests.get(search_url, params=params, timeout=100)\n",
    "        response.raise_for_status()\n",
    "        return response.json()\n",
    "# Initialize custom tool\n",
    "tool = CustomSerperDevTool()\n",
    "\n",
    "# Run search\n",
    "result = tool.run(search_query=\"latest AI research 2025\")\n",
    "print(result)\n"
   ]
  },
  {
   "cell_type": "code",
   "execution_count": 10,
   "id": "c2e1e324",
   "metadata": {},
   "outputs": [
    {
     "name": "stdout",
     "output_type": "stream",
     "text": [
      "Loaded SERPER_API_KEY length: 64\n",
      "Using Tool: Search the internet with Serper\n"
     ]
    },
    {
     "name": "stderr",
     "output_type": "stream",
     "text": [
      "2025-08-27 16:18:50,444 - 8768463040 - serper_dev_tool.py-serper_dev_tool:182 - ERROR: Error making request to Serper API: 403 Client Error: Forbidden for url: https://google.serper.dev/search\n",
      "Response content: b'{\"message\":\"Unauthorized.\",\"statusCode\":403}'\n"
     ]
    },
    {
     "name": "stdout",
     "output_type": "stream",
     "text": [
      "Error occurred: 403 Client Error: Forbidden for url: https://google.serper.dev/search\n",
      "Check if your SERPER_API_KEY is valid and has access to the endpoint.\n"
     ]
    }
   ],
   "source": [
    "from crewai_tools import SerperDevTool\n",
    "from dotenv import load_dotenv\n",
    "import os\n",
    "\n",
    "load_dotenv()\n",
    "\n",
    "\n",
    "# Check if API key is set correctly\n",
    "api_key = os.getenv(\"SERPER_API_KEY\")\n",
    "print(\"Loaded SERPER_API_KEY length:\", len(api_key or \"\"))\n",
    "if not api_key or len(api_key) < 30:\n",
    "\traise ValueError(\"SERPER_API_KEY is missing or too short. Please check your API key.\")\n",
    "\n",
    "tool = SerperDevTool()\n",
    "\n",
    "try:\n",
    "\tresult = tool.run(search_query=\"latest AI research 2025\")\n",
    "\tprint(result)\n",
    "except Exception as e:\n",
    "\tprint(\"Error occurred:\", e)\n",
    "\tprint(\"Check if your SERPER_API_KEY is valid and has access to the endpoint.\")\n"
   ]
  }
 ],
 "metadata": {
  "kernelspec": {
   "display_name": "tailor-my-cv",
   "language": "python",
   "name": "python3"
  },
  "language_info": {
   "codemirror_mode": {
    "name": "ipython",
    "version": 3
   },
   "file_extension": ".py",
   "mimetype": "text/x-python",
   "name": "python",
   "nbconvert_exporter": "python",
   "pygments_lexer": "ipython3",
   "version": "3.13.2"
  }
 },
 "nbformat": 4,
 "nbformat_minor": 5
}
